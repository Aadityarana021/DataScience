{
 "cells": [
  {
   "cell_type": "code",
   "execution_count": 3,
   "id": "b7744a7a",
   "metadata": {},
   "outputs": [
    {
     "name": "stdout",
     "output_type": "stream",
     "text": [
      "Requirement already satisfied: pyspark in c:\\users\\aaditya rana\\anaconda3\\lib\\site-packages (3.5.0)\n",
      "Requirement already satisfied: py4j==0.10.9.7 in c:\\users\\aaditya rana\\anaconda3\\lib\\site-packages (from pyspark) (0.10.9.7)\n",
      "Note: you may need to restart the kernel to use updated packages.\n"
     ]
    }
   ],
   "source": [
    "pip install pyspark"
   ]
  },
  {
   "cell_type": "code",
   "execution_count": 1,
   "id": "79b27636",
   "metadata": {},
   "outputs": [],
   "source": [
    "from pyspark.sql import SparkSession\n",
    "spark=SparkSession.builder.appName(\"Customers\").getOrCreate()"
   ]
  },
  {
   "cell_type": "code",
   "execution_count": 2,
   "id": "d4fe5eb9",
   "metadata": {},
   "outputs": [],
   "source": [
    "from pyspark.ml.regression import LinearRegression"
   ]
  },
  {
   "cell_type": "code",
   "execution_count": 4,
   "id": "741b7e72",
   "metadata": {},
   "outputs": [],
   "source": [
    "dataset=spark.read.csv(\"Customer.csv\",inferSchema=True,header=True)"
   ]
  },
  {
   "cell_type": "code",
   "execution_count": 7,
   "id": "84dde8ef",
   "metadata": {},
   "outputs": [
    {
     "data": {
      "text/plain": [
       "DataFrame[index: int, Order ID: string, Cust ID: int, Gender: string, Age: int, Age Group: string, Date: string, Month: string, Status: string, Channel : string, SKU: string, Category: string, Size: string, Qty: int, currency: string, Amount: int, ship-city: string, ship-state: string, ship-postal-code: int, ship-country: string, B2B: boolean]"
      ]
     },
     "execution_count": 7,
     "metadata": {},
     "output_type": "execute_result"
    }
   ],
   "source": [
    "dataset"
   ]
  },
  {
   "cell_type": "code",
   "execution_count": 8,
   "id": "608623f0",
   "metadata": {},
   "outputs": [
    {
     "name": "stdout",
     "output_type": "stream",
     "text": [
      "+-----+-------------------+-------+------+---+---------+----------+-----+---------+--------+--------------------+-------------+----+---+--------+------+-------------------+--------------+----------------+------------+-----+\n",
      "|index|           Order ID|Cust ID|Gender|Age|Age Group|      Date|Month|   Status|Channel |                 SKU|     Category|Size|Qty|currency|Amount|          ship-city|    ship-state|ship-postal-code|ship-country|  B2B|\n",
      "+-----+-------------------+-------+------+---+---------+----------+-----+---------+--------+--------------------+-------------+----+---+--------+------+-------------------+--------------+----------------+------------+-----+\n",
      "|    1|171-1029312-3038738|1029312| Women| 44|    Adult|04-12-2022|  Dec|Delivered|  Myntra|JNE1233-BLUE-KR-0...|        kurta| XXL|  1|     INR|   376|             MOHALI|        PUNJAB|          140301|          IN|false|\n",
      "|    2|405-2183842-2225946|2183842| Women| 29| Teenager|04-12-2022|  Dec|Delivered|    Ajio|      SET414-KR-NP-L|          Set|   L|  1|     INR|   376|           GURUGRAM|       HARYANA|          122002|          IN|false|\n",
      "|    3|171-1641533-8921966|1641533| Women| 67|   Senior|04-12-2022|  Dec|Delivered|  Myntra|      SET261-KR-PP-S|          Set|   S|  1|     INR|   376|            KOLKATA|   WEST BENGAL|          700029|          IN|false|\n",
      "|    4|404-7490807-6300351|7490807| Women| 20| Teenager|04-12-2022|  Dec|Delivered|  Amazon|      SET110-KR-PP-M|          Set|   M|  1|     INR|   376|          THANJAVUR|    TAMIL NADU|          613007|          IN|false|\n",
      "|    5|403-9293516-4577154|9293516| Women| 62|   Senior|04-12-2022|  Dec|Delivered|  Myntra|    JNE2294-KR-A-XXL|        kurta| XXL|  1|     INR|   376|           GURUGRAM|       HARYANA|          122001|          IN|false|\n",
      "|    6|407-1298130-0368305|1298130|   Men| 49|    Adult|04-12-2022|  Dec|Delivered|Flipkart|      JNE3797-KR-XXL|Western Dress| XXL|  1|     INR|   376|SANGLI MIRAJ KUPWAD|   MAHARASHTRA|          416436|          IN|false|\n",
      "|    7|407-1298130-0368305|1298130| Women| 23| Teenager|04-12-2022|  Dec|Delivered|  Meesho|      JNE3801-KR-XXL|        kurta| XXL|  1|     INR|   376|          BENGALURU|     KARNATAKA|          560029|          IN|false|\n",
      "|    8|171-5561216-3398711|5561216| Women| 70|   Senior|04-12-2022|  Dec|Delivered|  Others|        JNE3405-KR-M|        kurta|   M|  1|     INR|   376|           GURUGRAM|       HARYANA|          122001|          IN|false|\n",
      "|    9|408-2935263-2935550|2935263| Women| 75|   Senior|04-12-2022|  Dec|Delivered|  Amazon|     JNE3474-KR-E-XL|        kurta|  XL|  1|     INR|   376|          BENGALURU|     KARNATAKA|          562149|          IN|false|\n",
      "|   10|404-2648970-9042715|2648970| Women| 43|    Adult|04-12-2022|  Dec|Delivered|  Myntra|        JNE3466-KR-L|        kurta|   L|  1|     INR|   376|         VIJAYAWADA|ANDHRA PRADESH|          520002|          IN|false|\n",
      "|   11|404-2648970-9042715|2648970| Women| 76|   Senior|04-12-2022|  Dec|Delivered|  Amazon|        JNE3795-KR-S|        kurta|   S|  1|     INR|   517| THIRUVANANTHAPURAM|        KERALA|          695018|          IN|false|\n",
      "|   12|404-2648970-9042715|2648970| Women| 45|    Adult|04-12-2022|  Dec|Delivered|  Myntra|          J0181-TP-M|          Top|   M|  1|     INR|   399|           ARAKONAM|    TAMIL NADU|          631003|          IN|false|\n",
      "|   13|408-0265357-4939534| 265357| Women| 18| Teenager|04-12-2022|  Dec|Delivered|  Amazon|     SET217-KR-PP-XL|          Set|  XL|  1|     INR|   786|           GUWAHATI|         ASSAM|          781017|          IN|false|\n",
      "|   14|403-9268874-7296313|9268874|   Men| 44|    Adult|04-12-2022|  Dec|Delivered|  Myntra|      SET185-KR-NP-M|          Set|   M|  1|     INR|   911|          BENGALURU|     KARNATAKA|          562125|          IN|false|\n",
      "|   15|407-0442660-2736366| 442660| Women| 52|   Senior|04-12-2022|  Dec|Delivered|  Amazon|     SET333-KR-DPT-M|          Set|   M|  1|     INR|   967|          HYDERABAD|     TELANGANA|          500098|          IN|false|\n",
      "|   16|406-7482261-1657136|7482261| Women| 18| Teenager|04-12-2022|  Dec|Delivered|   Nalli|          J0124-TP-L|          Top|   L|  1|     INR|   523|          NEW DELHI|         DELHI|          110062|          IN|false|\n",
      "|   17|407-7039962-7080347|7039962|   Men| 30|    Adult|04-12-2022|  Dec|Delivered|  Meesho|    SET304-KR-DPT-XL|          Set|  XL|  1|     INR|  1115|        Bhubaneswar|        ODISHA|          751022|          IN|false|\n",
      "|   18|407-3422488-7373923|3422488| Women| 48|    Adult|04-12-2022|  Dec|Delivered|  Others|     SET184-KR-PP-XS|          Set|  XS|  1|     INR|   563|             SIROHI|     RAJASTHAN|          307001|          IN|false|\n",
      "|   19|171-8974687-6745940|8974687|   Men| 24| Teenager|04-12-2022|  Dec|Delivered|  Myntra|        J0161-DR-XXL|Western Dress| XXL|  1|     INR|   473|             MUMBAI|   MAHARASHTRA|          400097|          IN|false|\n",
      "|   20|406-0244536-2177175| 244536| Women| 46|    Adult|04-12-2022|  Dec|Delivered|  Amazon|      SET233-KR-PP-M|          Set|   M|  1|     INR|   545|           AMRITSAR|        PUNJAB|          143001|          IN|false|\n",
      "+-----+-------------------+-------+------+---+---------+----------+-----+---------+--------+--------------------+-------------+----+---+--------+------+-------------------+--------------+----------------+------------+-----+\n",
      "only showing top 20 rows\n",
      "\n"
     ]
    }
   ],
   "source": [
    "dataset.show()"
   ]
  },
  {
   "cell_type": "code",
   "execution_count": 10,
   "id": "cfbf057a",
   "metadata": {},
   "outputs": [
    {
     "name": "stdout",
     "output_type": "stream",
     "text": [
      "root\n",
      " |-- index: integer (nullable = true)\n",
      " |-- Order ID: string (nullable = true)\n",
      " |-- Cust ID: integer (nullable = true)\n",
      " |-- Gender: string (nullable = true)\n",
      " |-- Age: integer (nullable = true)\n",
      " |-- Age Group: string (nullable = true)\n",
      " |-- Date: string (nullable = true)\n",
      " |-- Month: string (nullable = true)\n",
      " |-- Status: string (nullable = true)\n",
      " |-- Channel : string (nullable = true)\n",
      " |-- SKU: string (nullable = true)\n",
      " |-- Category: string (nullable = true)\n",
      " |-- Size: string (nullable = true)\n",
      " |-- Qty: integer (nullable = true)\n",
      " |-- currency: string (nullable = true)\n",
      " |-- Amount: integer (nullable = true)\n",
      " |-- ship-city: string (nullable = true)\n",
      " |-- ship-state: string (nullable = true)\n",
      " |-- ship-postal-code: integer (nullable = true)\n",
      " |-- ship-country: string (nullable = true)\n",
      " |-- B2B: boolean (nullable = true)\n",
      "\n"
     ]
    }
   ],
   "source": [
    "dataset.printSchema()"
   ]
  },
  {
   "cell_type": "code",
   "execution_count": 12,
   "id": "8a71a12e",
   "metadata": {},
   "outputs": [],
   "source": [
    "from pyspark.ml.linalg import Vectors\n",
    "from pyspark.ml.feature import VectorAssembler"
   ]
  },
  {
   "cell_type": "code",
   "execution_count": 18,
   "id": "ffc692f8",
   "metadata": {},
   "outputs": [],
   "source": [
    "featureassembler=VectorAssembler(inputCols=[\"Qty\",\"Age\",\"Amount\"],outputCol=\"Independent Features\")"
   ]
  },
  {
   "cell_type": "code",
   "execution_count": 22,
   "id": "bc46088d",
   "metadata": {},
   "outputs": [],
   "source": [
    "output=featureassembler.transform(dataset)"
   ]
  },
  {
   "cell_type": "code",
   "execution_count": 23,
   "id": "738f9b0d",
   "metadata": {},
   "outputs": [
    {
     "name": "stdout",
     "output_type": "stream",
     "text": [
      "+-----+-------------------+-------+------+---+---------+----------+-----+---------+--------+--------------------+-------------+----+---+--------+------+-------------------+--------------+----------------+------------+-----+--------------------+\n",
      "|index|           Order ID|Cust ID|Gender|Age|Age Group|      Date|Month|   Status|Channel |                 SKU|     Category|Size|Qty|currency|Amount|          ship-city|    ship-state|ship-postal-code|ship-country|  B2B|Independent Features|\n",
      "+-----+-------------------+-------+------+---+---------+----------+-----+---------+--------+--------------------+-------------+----+---+--------+------+-------------------+--------------+----------------+------------+-----+--------------------+\n",
      "|    1|171-1029312-3038738|1029312| Women| 44|    Adult|04-12-2022|  Dec|Delivered|  Myntra|JNE1233-BLUE-KR-0...|        kurta| XXL|  1|     INR|   376|             MOHALI|        PUNJAB|          140301|          IN|false|    [1.0,44.0,376.0]|\n",
      "|    2|405-2183842-2225946|2183842| Women| 29| Teenager|04-12-2022|  Dec|Delivered|    Ajio|      SET414-KR-NP-L|          Set|   L|  1|     INR|   376|           GURUGRAM|       HARYANA|          122002|          IN|false|    [1.0,29.0,376.0]|\n",
      "|    3|171-1641533-8921966|1641533| Women| 67|   Senior|04-12-2022|  Dec|Delivered|  Myntra|      SET261-KR-PP-S|          Set|   S|  1|     INR|   376|            KOLKATA|   WEST BENGAL|          700029|          IN|false|    [1.0,67.0,376.0]|\n",
      "|    4|404-7490807-6300351|7490807| Women| 20| Teenager|04-12-2022|  Dec|Delivered|  Amazon|      SET110-KR-PP-M|          Set|   M|  1|     INR|   376|          THANJAVUR|    TAMIL NADU|          613007|          IN|false|    [1.0,20.0,376.0]|\n",
      "|    5|403-9293516-4577154|9293516| Women| 62|   Senior|04-12-2022|  Dec|Delivered|  Myntra|    JNE2294-KR-A-XXL|        kurta| XXL|  1|     INR|   376|           GURUGRAM|       HARYANA|          122001|          IN|false|    [1.0,62.0,376.0]|\n",
      "|    6|407-1298130-0368305|1298130|   Men| 49|    Adult|04-12-2022|  Dec|Delivered|Flipkart|      JNE3797-KR-XXL|Western Dress| XXL|  1|     INR|   376|SANGLI MIRAJ KUPWAD|   MAHARASHTRA|          416436|          IN|false|    [1.0,49.0,376.0]|\n",
      "|    7|407-1298130-0368305|1298130| Women| 23| Teenager|04-12-2022|  Dec|Delivered|  Meesho|      JNE3801-KR-XXL|        kurta| XXL|  1|     INR|   376|          BENGALURU|     KARNATAKA|          560029|          IN|false|    [1.0,23.0,376.0]|\n",
      "|    8|171-5561216-3398711|5561216| Women| 70|   Senior|04-12-2022|  Dec|Delivered|  Others|        JNE3405-KR-M|        kurta|   M|  1|     INR|   376|           GURUGRAM|       HARYANA|          122001|          IN|false|    [1.0,70.0,376.0]|\n",
      "|    9|408-2935263-2935550|2935263| Women| 75|   Senior|04-12-2022|  Dec|Delivered|  Amazon|     JNE3474-KR-E-XL|        kurta|  XL|  1|     INR|   376|          BENGALURU|     KARNATAKA|          562149|          IN|false|    [1.0,75.0,376.0]|\n",
      "|   10|404-2648970-9042715|2648970| Women| 43|    Adult|04-12-2022|  Dec|Delivered|  Myntra|        JNE3466-KR-L|        kurta|   L|  1|     INR|   376|         VIJAYAWADA|ANDHRA PRADESH|          520002|          IN|false|    [1.0,43.0,376.0]|\n",
      "|   11|404-2648970-9042715|2648970| Women| 76|   Senior|04-12-2022|  Dec|Delivered|  Amazon|        JNE3795-KR-S|        kurta|   S|  1|     INR|   517| THIRUVANANTHAPURAM|        KERALA|          695018|          IN|false|    [1.0,76.0,517.0]|\n",
      "|   12|404-2648970-9042715|2648970| Women| 45|    Adult|04-12-2022|  Dec|Delivered|  Myntra|          J0181-TP-M|          Top|   M|  1|     INR|   399|           ARAKONAM|    TAMIL NADU|          631003|          IN|false|    [1.0,45.0,399.0]|\n",
      "|   13|408-0265357-4939534| 265357| Women| 18| Teenager|04-12-2022|  Dec|Delivered|  Amazon|     SET217-KR-PP-XL|          Set|  XL|  1|     INR|   786|           GUWAHATI|         ASSAM|          781017|          IN|false|    [1.0,18.0,786.0]|\n",
      "|   14|403-9268874-7296313|9268874|   Men| 44|    Adult|04-12-2022|  Dec|Delivered|  Myntra|      SET185-KR-NP-M|          Set|   M|  1|     INR|   911|          BENGALURU|     KARNATAKA|          562125|          IN|false|    [1.0,44.0,911.0]|\n",
      "|   15|407-0442660-2736366| 442660| Women| 52|   Senior|04-12-2022|  Dec|Delivered|  Amazon|     SET333-KR-DPT-M|          Set|   M|  1|     INR|   967|          HYDERABAD|     TELANGANA|          500098|          IN|false|    [1.0,52.0,967.0]|\n",
      "|   16|406-7482261-1657136|7482261| Women| 18| Teenager|04-12-2022|  Dec|Delivered|   Nalli|          J0124-TP-L|          Top|   L|  1|     INR|   523|          NEW DELHI|         DELHI|          110062|          IN|false|    [1.0,18.0,523.0]|\n",
      "|   17|407-7039962-7080347|7039962|   Men| 30|    Adult|04-12-2022|  Dec|Delivered|  Meesho|    SET304-KR-DPT-XL|          Set|  XL|  1|     INR|  1115|        Bhubaneswar|        ODISHA|          751022|          IN|false|   [1.0,30.0,1115.0]|\n",
      "|   18|407-3422488-7373923|3422488| Women| 48|    Adult|04-12-2022|  Dec|Delivered|  Others|     SET184-KR-PP-XS|          Set|  XS|  1|     INR|   563|             SIROHI|     RAJASTHAN|          307001|          IN|false|    [1.0,48.0,563.0]|\n",
      "|   19|171-8974687-6745940|8974687|   Men| 24| Teenager|04-12-2022|  Dec|Delivered|  Myntra|        J0161-DR-XXL|Western Dress| XXL|  1|     INR|   473|             MUMBAI|   MAHARASHTRA|          400097|          IN|false|    [1.0,24.0,473.0]|\n",
      "|   20|406-0244536-2177175| 244536| Women| 46|    Adult|04-12-2022|  Dec|Delivered|  Amazon|      SET233-KR-PP-M|          Set|   M|  1|     INR|   545|           AMRITSAR|        PUNJAB|          143001|          IN|false|    [1.0,46.0,545.0]|\n",
      "+-----+-------------------+-------+------+---+---------+----------+-----+---------+--------+--------------------+-------------+----+---+--------+------+-------------------+--------------+----------------+------------+-----+--------------------+\n",
      "only showing top 20 rows\n",
      "\n"
     ]
    }
   ],
   "source": [
    "output.show()"
   ]
  },
  {
   "cell_type": "code",
   "execution_count": 24,
   "id": "6aadafb2",
   "metadata": {},
   "outputs": [
    {
     "name": "stdout",
     "output_type": "stream",
     "text": [
      "+--------------------+\n",
      "|Independent Features|\n",
      "+--------------------+\n",
      "|    [1.0,44.0,376.0]|\n",
      "|    [1.0,29.0,376.0]|\n",
      "|    [1.0,67.0,376.0]|\n",
      "|    [1.0,20.0,376.0]|\n",
      "|    [1.0,62.0,376.0]|\n",
      "|    [1.0,49.0,376.0]|\n",
      "|    [1.0,23.0,376.0]|\n",
      "|    [1.0,70.0,376.0]|\n",
      "|    [1.0,75.0,376.0]|\n",
      "|    [1.0,43.0,376.0]|\n",
      "|    [1.0,76.0,517.0]|\n",
      "|    [1.0,45.0,399.0]|\n",
      "|    [1.0,18.0,786.0]|\n",
      "|    [1.0,44.0,911.0]|\n",
      "|    [1.0,52.0,967.0]|\n",
      "|    [1.0,18.0,523.0]|\n",
      "|   [1.0,30.0,1115.0]|\n",
      "|    [1.0,48.0,563.0]|\n",
      "|    [1.0,24.0,473.0]|\n",
      "|    [1.0,46.0,545.0]|\n",
      "+--------------------+\n",
      "only showing top 20 rows\n",
      "\n"
     ]
    }
   ],
   "source": [
    "output.select(\"Independent Features\").show()"
   ]
  },
  {
   "cell_type": "code",
   "execution_count": 25,
   "id": "9209c451",
   "metadata": {},
   "outputs": [],
   "source": [
    "finalized_data=output.select(\"Independent Features\",\"Amount\")"
   ]
  },
  {
   "cell_type": "code",
   "execution_count": 26,
   "id": "12f1987c",
   "metadata": {},
   "outputs": [
    {
     "name": "stdout",
     "output_type": "stream",
     "text": [
      "+--------------------+------+\n",
      "|Independent Features|Amount|\n",
      "+--------------------+------+\n",
      "|    [1.0,44.0,376.0]|   376|\n",
      "|    [1.0,29.0,376.0]|   376|\n",
      "|    [1.0,67.0,376.0]|   376|\n",
      "|    [1.0,20.0,376.0]|   376|\n",
      "|    [1.0,62.0,376.0]|   376|\n",
      "|    [1.0,49.0,376.0]|   376|\n",
      "|    [1.0,23.0,376.0]|   376|\n",
      "|    [1.0,70.0,376.0]|   376|\n",
      "|    [1.0,75.0,376.0]|   376|\n",
      "|    [1.0,43.0,376.0]|   376|\n",
      "|    [1.0,76.0,517.0]|   517|\n",
      "|    [1.0,45.0,399.0]|   399|\n",
      "|    [1.0,18.0,786.0]|   786|\n",
      "|    [1.0,44.0,911.0]|   911|\n",
      "|    [1.0,52.0,967.0]|   967|\n",
      "|    [1.0,18.0,523.0]|   523|\n",
      "|   [1.0,30.0,1115.0]|  1115|\n",
      "|    [1.0,48.0,563.0]|   563|\n",
      "|    [1.0,24.0,473.0]|   473|\n",
      "|    [1.0,46.0,545.0]|   545|\n",
      "+--------------------+------+\n",
      "only showing top 20 rows\n",
      "\n"
     ]
    }
   ],
   "source": [
    "finalized_data.show()"
   ]
  },
  {
   "cell_type": "code",
   "execution_count": 32,
   "id": "89e17d05",
   "metadata": {},
   "outputs": [],
   "source": [
    "train_data,test_data=finalized_data.randomSplit([0.75,0.25])"
   ]
  },
  {
   "cell_type": "code",
   "execution_count": 35,
   "id": "16409beb",
   "metadata": {},
   "outputs": [],
   "source": [
    "regressor=LinearRegression(featuresCol=\"Independent Features\",labelCol=\"Amount\")\n",
    "regressor=regressor.fit(train_data)"
   ]
  },
  {
   "cell_type": "code",
   "execution_count": 37,
   "id": "37f83388",
   "metadata": {},
   "outputs": [
    {
     "data": {
      "text/plain": [
       "DenseVector([0.0, 0.0, 1.0])"
      ]
     },
     "execution_count": 37,
     "metadata": {},
     "output_type": "execute_result"
    }
   ],
   "source": [
    "regressor.coefficients"
   ]
  },
  {
   "cell_type": "code",
   "execution_count": 38,
   "id": "eaf08ca8",
   "metadata": {},
   "outputs": [
    {
     "data": {
      "text/plain": [
       "2.8301090837239876e-14"
      ]
     },
     "execution_count": 38,
     "metadata": {},
     "output_type": "execute_result"
    }
   ],
   "source": [
    "regressor.intercept"
   ]
  },
  {
   "cell_type": "code",
   "execution_count": 41,
   "id": "7dc4b387",
   "metadata": {},
   "outputs": [],
   "source": [
    "pred_results=regressor.evaluate(test_data)"
   ]
  },
  {
   "cell_type": "code",
   "execution_count": 45,
   "id": "7ab65b46",
   "metadata": {},
   "outputs": [
    {
     "name": "stdout",
     "output_type": "stream",
     "text": [
      "+--------------------+------+------------------+\n",
      "|Independent Features|Amount|        prediction|\n",
      "+--------------------+------+------------------+\n",
      "|    [1.0,18.0,291.0]|   291|291.00000000000006|\n",
      "|    [1.0,18.0,292.0]|   292|292.00000000000006|\n",
      "|    [1.0,18.0,301.0]|   301|301.00000000000006|\n",
      "|    [1.0,18.0,301.0]|   301|301.00000000000006|\n",
      "|    [1.0,18.0,301.0]|   301|301.00000000000006|\n",
      "|    [1.0,18.0,307.0]|   307|307.00000000000006|\n",
      "|    [1.0,18.0,314.0]|   314|314.00000000000006|\n",
      "|    [1.0,18.0,318.0]|   318|318.00000000000006|\n",
      "|    [1.0,18.0,323.0]|   323|323.00000000000006|\n",
      "|    [1.0,18.0,329.0]|   329|329.00000000000006|\n",
      "|    [1.0,18.0,329.0]|   329|329.00000000000006|\n",
      "|    [1.0,18.0,330.0]|   330|330.00000000000006|\n",
      "|    [1.0,18.0,345.0]|   345|345.00000000000006|\n",
      "|    [1.0,18.0,345.0]|   345|345.00000000000006|\n",
      "|    [1.0,18.0,346.0]|   346|346.00000000000006|\n",
      "|    [1.0,18.0,349.0]|   349|349.00000000000006|\n",
      "|    [1.0,18.0,353.0]|   353|353.00000000000006|\n",
      "|    [1.0,18.0,362.0]|   362|362.00000000000006|\n",
      "|    [1.0,18.0,362.0]|   362|362.00000000000006|\n",
      "|    [1.0,18.0,376.0]|   376|376.00000000000006|\n",
      "+--------------------+------+------------------+\n",
      "only showing top 20 rows\n",
      "\n"
     ]
    }
   ],
   "source": [
    "pred_results.predictions.show()"
   ]
  },
  {
   "cell_type": "code",
   "execution_count": null,
   "id": "62d802f3",
   "metadata": {},
   "outputs": [],
   "source": [
    " "
   ]
  },
  {
   "cell_type": "code",
   "execution_count": null,
   "id": "20cbd14f",
   "metadata": {},
   "outputs": [],
   "source": []
  },
  {
   "cell_type": "code",
   "execution_count": null,
   "id": "87496dcb",
   "metadata": {},
   "outputs": [],
   "source": []
  },
  {
   "cell_type": "code",
   "execution_count": null,
   "id": "f396010c",
   "metadata": {},
   "outputs": [],
   "source": []
  }
 ],
 "metadata": {
  "kernelspec": {
   "display_name": "Python 3 (ipykernel)",
   "language": "python",
   "name": "python3"
  },
  "language_info": {
   "codemirror_mode": {
    "name": "ipython",
    "version": 3
   },
   "file_extension": ".py",
   "mimetype": "text/x-python",
   "name": "python",
   "nbconvert_exporter": "python",
   "pygments_lexer": "ipython3",
   "version": "3.9.13"
  }
 },
 "nbformat": 4,
 "nbformat_minor": 5
}
